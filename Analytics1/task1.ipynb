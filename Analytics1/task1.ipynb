{
 "cells": [
  {
   "cell_type": "markdown",
   "id": "a9a7ee08",
   "metadata": {},
   "source": [
    "## Условие 2:\n",
    "На складе лежат разные фрукты в разном количестве.\n",
    "Нужно написать функцию, которая на вход принимает \n",
    "любое количество названий фруктов и их количество, \n",
    "а возвращает общее количество фруктов на складе\n",
    "### 2.1 Вариант с for"
   ]
  },
  {
   "cell_type": "code",
   "execution_count": 16,
   "id": "6d14d1ff",
   "metadata": {},
   "outputs": [
    {
     "data": {
      "text/plain": [
       "23"
      ]
     },
     "execution_count": 16,
     "metadata": {},
     "output_type": "execute_result"
    }
   ],
   "source": [
    "def fruits(**args):\n",
    "    count_fruits=0\n",
    "    for i in args.values():\n",
    "        count_fruits += i\n",
    "    return count_fruits\n",
    "\n",
    "fruits(apple=5,kiwi=3,banane=15)"
   ]
  },
  {
   "cell_type": "markdown",
   "id": "92a490cd",
   "metadata": {},
   "source": [
    "### 2.1 Вариант с dict comprehensions"
   ]
  },
  {
   "cell_type": "code",
   "execution_count": 2,
   "id": "73a19a14",
   "metadata": {},
   "outputs": [
    {
     "data": {
      "text/plain": [
       "23"
      ]
     },
     "execution_count": 2,
     "metadata": {},
     "output_type": "execute_result"
    }
   ],
   "source": [
    "def fruits(my_dict):\n",
    "    count_fruits=0\n",
    "    count_fruits=sum(count_fruits+i for i in my_dict.values())\n",
    "    return count_fruits\n",
    "\n",
    "my_dict={'apple':5,'kiwi':3,'banane':15}   \n",
    "fruits(my_dict)"
   ]
  },
  {
   "cell_type": "markdown",
   "id": "b1dd4e48",
   "metadata": {},
   "source": [
    "## Условие 3:\n",
    "Дан список с затратами на рекламу. Но в данных есть ошибки, некоторые затраты имеют отрицательную величину. Удалите такие значения из списка и посчитайте суммарные затраты\n",
    "[100, 125, -90, 345, 655, -1, 0, 200]\n",
    "Используйте list comprehensions"
   ]
  },
  {
   "cell_type": "code",
   "execution_count": 38,
   "id": "f4077169",
   "metadata": {},
   "outputs": [
    {
     "data": {
      "text/plain": [
       "1425"
      ]
     },
     "execution_count": 38,
     "metadata": {},
     "output_type": "execute_result"
    }
   ],
   "source": [
    "expenses=[100, 125, -90, 345, 655, -1, 0, 200]\n",
    "sum([el for el in expenses if el>0])\n"
   ]
  },
  {
   "cell_type": "markdown",
   "id": "ca6eae5c",
   "metadata": {},
   "source": [
    "## Условие 4:\n",
    "Даны два списка.\n",
    "\n",
    "Дата покупки\n",
    "['2021-09-14', '2021-12-15', '2021-09-08', '2021-12-05', '2021-10-09', '2021-09-30', '2021-12-22', '2021-11-29', '2021-12-24', '2021-11-26', '2021-10-27', '2021-12-18', '2021-11-09', '2021-11-23', '2021-09-27', '2021-10-02', '2021-12-27', '2021-09-20', '2021-12-13', '2021-11-01', '2021-11-09', '2021-12-06', '2021-12-08', '2021-10-09', '2021-10-31', '2021-09-30', '2021-11-09', '2021-12-13', '2021-10-26', '2021-12-09']\n",
    "\n",
    "Суммы покупок по датам\n",
    "[1270, 8413, 9028, 3703, 5739, 4095, 295, 4944, 5723, 3701, 4471, 651, 7037, 4274, 6275, 4988, 6930, 2971, 6592, 2004, 2822, 519, 3406, 2732, 5015, 2008, 316, 6333, 5700, 2887]"
   ]
  },
  {
   "cell_type": "markdown",
   "id": "fd60b90f",
   "metadata": {},
   "source": [
    "### 4.1 Вариант с list comprehensions\n",
    "Найдите, какая выручка у компании в ноябре"
   ]
  },
  {
   "cell_type": "code",
   "execution_count": 42,
   "id": "dc616c04",
   "metadata": {},
   "outputs": [
    {
     "data": {
      "text/plain": [
       "25098"
      ]
     },
     "execution_count": 42,
     "metadata": {},
     "output_type": "execute_result"
    }
   ],
   "source": [
    "dates=['2021-09-14', '2021-12-15', '2021-09-08', '2021-12-05', '2021-10-09', '2021-09-30', '2021-12-22', '2021-11-29', '2021-12-24', '2021-11-26', '2021-10-27', '2021-12-18', '2021-11-09', '2021-11-23', '2021-09-27', '2021-10-02', '2021-12-27', '2021-09-20', '2021-12-13', '2021-11-01', '2021-11-09', '2021-12-06', '2021-12-08', '2021-10-09', '2021-10-31', '2021-09-30', '2021-11-09', '2021-12-13', '2021-10-26', '2021-12-09']\n",
    "purchases=[1270, 8413, 9028, 3703, 5739, 4095, 295, 4944, 5723, 3701, 4471, 651, 7037, 4274, 6275, 4988, 6930, 2971, 6592, 2004, 2822, 519, 3406, 2732, 5015, 2008, 316, 6333, 5700, 2887]\n",
    "sum([purchases[i] for i in range(len(dates)) if dates[i].split('-')[1]=='11'])"
   ]
  },
  {
   "cell_type": "markdown",
   "id": "e2a9827d",
   "metadata": {},
   "source": [
    "### 4.2 Используйте аннотирование типов.\n",
    "Найдите выручку компании в зависимости от месяца\n",
    "Для этого напишите функцию, которая на вход принимает список с датами и список с выручкой, а на выходе словарь, где ключи - это месяцы, а значения - это выручка.\n"
   ]
  },
  {
   "cell_type": "code",
   "execution_count": 45,
   "id": "55d1b2fb",
   "metadata": {},
   "outputs": [
    {
     "data": {
      "text/plain": [
       "{'09': 25647, '12': 45452, '10': 28645, '11': 25098}"
      ]
     },
     "execution_count": 45,
     "metadata": {},
     "output_type": "execute_result"
    }
   ],
   "source": [
    "def calc_purchases_by_month(dates:list,purchases:list) -> dict:\n",
    "    purchases_by_month={}\n",
    "    for i in range(len(dates)):\n",
    "        month=dates[i].split('-')[1]\n",
    "        if month in purchases_by_month.keys():\n",
    "            purchases_by_month[month]+=purchases[i]\n",
    "        else:\n",
    "            purchases_by_month[month]=purchases[i]\n",
    "    return purchases_by_month\n",
    "\n",
    "calc_purchases_by_month(dates,purchases)"
   ]
  }
 ],
 "metadata": {
  "kernelspec": {
   "display_name": "Python 3 (ipykernel)",
   "language": "python",
   "name": "python3"
  },
  "language_info": {
   "codemirror_mode": {
    "name": "ipython",
    "version": 3
   },
   "file_extension": ".py",
   "mimetype": "text/x-python",
   "name": "python",
   "nbconvert_exporter": "python",
   "pygments_lexer": "ipython3",
   "version": "3.9.13"
  }
 },
 "nbformat": 4,
 "nbformat_minor": 5
}
